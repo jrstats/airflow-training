{
 "cells": [
  {
   "cell_type": "code",
   "execution_count": 7,
   "metadata": {},
   "outputs": [],
   "source": [
    "import sqlite3\n",
    "import sqlalchemy as sql"
   ]
  },
  {
   "cell_type": "code",
   "execution_count": 13,
   "metadata": {},
   "outputs": [
    {
     "data": {
      "text/plain": [
       "['ab_permission',\n",
       " 'ab_permission_view',\n",
       " 'ab_permission_view_role',\n",
       " 'ab_register_user',\n",
       " 'ab_role',\n",
       " 'ab_user',\n",
       " 'ab_user_role',\n",
       " 'ab_view_menu',\n",
       " 'alembic_version',\n",
       " 'callback_request',\n",
       " 'connection',\n",
       " 'dag',\n",
       " 'dag_code',\n",
       " 'dag_owner_attributes',\n",
       " 'dag_pickle',\n",
       " 'dag_run',\n",
       " 'dag_run_note',\n",
       " 'dag_schedule_dataset_reference',\n",
       " 'dag_tag',\n",
       " 'dag_warning',\n",
       " 'dagrun_dataset_event',\n",
       " 'dataset',\n",
       " 'dataset_dag_run_queue',\n",
       " 'dataset_event',\n",
       " 'import_error',\n",
       " 'job',\n",
       " 'log',\n",
       " 'log_template',\n",
       " 'rendered_task_instance_fields',\n",
       " 'serialized_dag',\n",
       " 'sla_miss',\n",
       " 'slot_pool',\n",
       " 'sqlite_sequence',\n",
       " 'task_fail',\n",
       " 'task_instance',\n",
       " 'task_instance_note',\n",
       " 'task_map',\n",
       " 'task_outlet_dataset_reference',\n",
       " 'task_reschedule',\n",
       " 'trigger',\n",
       " 'variable',\n",
       " 'xcom']"
      ]
     },
     "execution_count": 13,
     "metadata": {},
     "output_type": "execute_result"
    }
   ],
   "source": [
    "engine = sql.create_engine(\"sqlite:///./airflow.db\")\n",
    "sql.inspect(engine).get_table_names()"
   ]
  },
  {
   "cell_type": "code",
   "execution_count": null,
   "metadata": {},
   "outputs": [],
   "source": []
  }
 ],
 "metadata": {
  "kernelspec": {
   "display_name": ".venv",
   "language": "python",
   "name": "python3"
  },
  "language_info": {
   "codemirror_mode": {
    "name": "ipython",
    "version": 3
   },
   "file_extension": ".py",
   "mimetype": "text/x-python",
   "name": "python",
   "nbconvert_exporter": "python",
   "pygments_lexer": "ipython3",
   "version": "3.9.7 (default, Oct 13 2021, 06:44:56) \n[Clang 12.0.0 (clang-1200.0.32.29)]"
  },
  "orig_nbformat": 4,
  "vscode": {
   "interpreter": {
    "hash": "1c5384309aa2e7fe09efbf346d3fe5b939ae62fbebcdbe4e58b69d29872cff01"
   }
  }
 },
 "nbformat": 4,
 "nbformat_minor": 2
}
